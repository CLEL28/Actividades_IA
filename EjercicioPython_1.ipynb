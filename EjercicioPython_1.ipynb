{
  "nbformat": 4,
  "nbformat_minor": 0,
  "metadata": {
    "colab": {
      "provenance": [],
      "authorship_tag": "ABX9TyPNJtb/e9cikO2sl42Nh/sW",
      "include_colab_link": true
    },
    "kernelspec": {
      "name": "python3",
      "display_name": "Python 3"
    },
    "language_info": {
      "name": "python"
    }
  },
  "cells": [
    {
      "cell_type": "markdown",
      "metadata": {
        "id": "view-in-github",
        "colab_type": "text"
      },
      "source": [
        "<a href=\"https://colab.research.google.com/github/CLEL28/Actividades_IA/blob/main/EjercicioPython_1.ipynb\" target=\"_parent\"><img src=\"https://colab.research.google.com/assets/colab-badge.svg\" alt=\"Open In Colab\"/></a>"
      ]
    },
    {
      "cell_type": "markdown",
      "source": [
        "**A1:** **Ejercicios en** **Python**\n",
        "\n",
        "Cynthia Lourdes Escamilla Loperena\n",
        "\n",
        "1957170  \n",
        "\n",
        "N1\n"
      ],
      "metadata": {
        "id": "C2omqLtB2CX-"
      }
    },
    {
      "cell_type": "markdown",
      "source": [
        "**Instrucciones**\n",
        "\n",
        "Realizar los siguientes ejercicios en Python en una notebook de Google Colab.\n",
        "\n",
        "1. Desarrolla un algoritmo que solicite al usuario dos números y muestre la suma de ambos.\n",
        "2. Desarrolla un algoritmo que calcule el factorial de un número ingresado por el usuario.\n",
        "3. Desarrolla un algoritmo que tome una lista de números y un número objetivo, y muestre la posición (índice) en la que se encuentra el número objetivo en la lista.\n",
        "4. Desarrolla un algoritmo que tome una cadena de texto y determine si es un palíndromo (se lee igual de adelante hacia atrás y viceversa)."
      ],
      "metadata": {
        "id": "NSAhf9Q52b13"
      }
    },
    {
      "cell_type": "code",
      "source": [
        "# Desarrolla un algoritmo que solicite al usuario\n",
        "# dos números y muestre la suma de ambos.\n",
        "\n",
        "# Solicitar números\n",
        "numero1 = float(input(\"Ingrese un número: \"))\n",
        "numero2 = float(input(\"Ingrese un segundo número: \"))\n",
        "\n",
        "# Suma de los dos números\n",
        "suma = numero1 + numero2\n",
        "\n",
        "# Resultado\n",
        "print(\"La suma de\", numero1, \"y\", numero2, \"es:\", suma)\n"
      ],
      "metadata": {
        "colab": {
          "base_uri": "https://localhost:8080/"
        },
        "id": "pu1ETyc92MXh",
        "outputId": "cbcd4d61-3f87-4f9a-ba66-f8d7e7b42049"
      },
      "execution_count": null,
      "outputs": [
        {
          "output_type": "stream",
          "name": "stdout",
          "text": [
            "Ingrese un número: 849\n",
            "Ingrese un segundo número: 3884\n",
            "La suma de 849.0 y 3884.0 es: 4733.0\n"
          ]
        }
      ]
    },
    {
      "cell_type": "code",
      "source": [
        "# Desarrolla un algoritmo que calcule el factorial\n",
        "# de un número ingresado por el usuario.\n",
        "\n",
        "# Solicitar número entero positivo\n",
        "numero = int(input(\"Ingrese un número entero positivo: \"))\n",
        "\n",
        "# Verificar si el número es válido\n",
        "if numero < 0:\n",
        "    print(\"El número debe ser positivo.\")\n",
        "elif numero == 0:\n",
        "    print(\"El factorial de 0 es 1.\")\n",
        "else:\n",
        "    # Calcular el factorial del número\n",
        "    factorial = 1\n",
        "    for i in range(1, numero + 1):\n",
        "        factorial *= i\n",
        "\n",
        "    # Resultado\n",
        "    print(\"El factorial de\", numero, \"es:\", factorial)\n"
      ],
      "metadata": {
        "colab": {
          "base_uri": "https://localhost:8080/"
        },
        "id": "CArQtNff5Bbw",
        "outputId": "3f4d8ea3-f207-4337-921b-cdea318d9a6f"
      },
      "execution_count": null,
      "outputs": [
        {
          "output_type": "stream",
          "name": "stdout",
          "text": [
            "Ingrese un número entero positivo: 33\n",
            "El factorial de 33 es: 8683317618811886495518194401280000000\n"
          ]
        }
      ]
    },
    {
      "cell_type": "code",
      "source": [
        "# Desarrolla un algoritmo que tome una lista de números\n",
        "# y un número objetivo, y muestre la posición (índice) en\n",
        "# la que se encuentra el número objetivo en la lista.\n",
        "\n",
        "# Función para buscar el índice en la lista\n",
        "def buscar_indice(lista, objetivo):\n",
        "    for i in range(len(lista)):\n",
        "        if lista[i] == objetivo:\n",
        "            return i\n",
        "    return -1\n",
        "\n",
        "# Solicitar lista de números\n",
        "numeros = input(\"Ingrese una lista de números separados por espacios: \").split()\n",
        "numeros = [int(num) for num in numeros]\n",
        "\n",
        "# Solicitar el número objetivo\n",
        "objetivo = int(input(\"Ingrese el número objetivo: \"))\n",
        "\n",
        "# Buscar el índice del número objetivo en la lista\n",
        "indice = buscar_indice(numeros, objetivo)\n",
        "\n",
        "# Resultado\n",
        "if indice != -1:\n",
        "    print(\"El número objetivo\", objetivo, \"se encuentra en el índice\", indice, \"de la lista.\")\n",
        "else:\n",
        "    print(\"El número objetivo\", objetivo, \"no se encuentra en la lista.\")\n"
      ],
      "metadata": {
        "colab": {
          "base_uri": "https://localhost:8080/"
        },
        "id": "a6Q2CSczgT-h",
        "outputId": "26308bfe-de19-48ac-fc72-6422190fb719"
      },
      "execution_count": null,
      "outputs": [
        {
          "output_type": "stream",
          "name": "stdout",
          "text": [
            "Ingrese una lista de números separados por espacios: 6 3 8 23 77 294 5 234 64 23 \n",
            "Ingrese el número objetivo: 5\n",
            "El número objetivo 5 se encuentra en el índice 6 de la lista.\n"
          ]
        }
      ]
    },
    {
      "cell_type": "code",
      "source": [
        "# Desarrolla un algoritmo que tome una cadena de\n",
        "# texto y determine si es un palíndromo (se lee igual\n",
        "# de adelante hacia atrás y viceversa).\n",
        "\n",
        "def es_palindromo(cadena):\n",
        "    # Eliminar los espacios en blanco y convertir a minúsculas\n",
        "    cadena = cadena.replace(\" \", \"\").lower()\n",
        "\n",
        "    # Verificar si la cadena es un palíndromo\n",
        "    if cadena == cadena[::-1]:\n",
        "        return True\n",
        "    else:\n",
        "        return False\n",
        "\n",
        "# Solicitar una cadena de texto\n",
        "texto = input(\"Ingrese una cadena de texto: \")\n",
        "\n",
        "# Verificación\n",
        "if es_palindromo(texto):\n",
        "    print(\"La cadena es un palíndromo.\")\n",
        "else:\n",
        "    print(\"La cadena no es un palíndromo.\")\n"
      ],
      "metadata": {
        "colab": {
          "base_uri": "https://localhost:8080/"
        },
        "id": "U3eg2peYhjzH",
        "outputId": "0c7f0251-2d63-4f30-d4a4-71ae0af2e7be"
      },
      "execution_count": null,
      "outputs": [
        {
          "output_type": "stream",
          "name": "stdout",
          "text": [
            "Ingrese una cadena de texto: Ana\n",
            "La cadena es un palíndromo.\n"
          ]
        }
      ]
    }
  ]
}